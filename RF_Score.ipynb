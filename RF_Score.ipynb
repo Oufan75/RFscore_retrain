{
 "cells": [
  {
   "cell_type": "code",
   "execution_count": 1,
   "id": "15a84187",
   "metadata": {},
   "outputs": [],
   "source": [
    "import os\n",
    "import numpy as np\n",
    "from sklearn.ensemble import RandomForestRegressor\n",
    "import pandas as pd\n",
    "import pickle\n",
    "from scipy.spatial import distance_matrix"
   ]
  },
  {
   "cell_type": "code",
   "execution_count": 2,
   "id": "89a04c47",
   "metadata": {},
   "outputs": [],
   "source": [
    "from sklearn.metrics import mean_squared_error, r2_score, mean_absolute_error"
   ]
  },
  {
   "cell_type": "markdown",
   "id": "04ab65ec",
   "metadata": {},
   "source": [
    "Credit: A machine learning approach to predicting protein-ligand binding affinity with applications to molecular docking. \n",
    "P.J. Ballester & J.B.O. Mitchell, Bioinformatics, 26, 1169-1175 (2010)                                                                                                       \n",
    "Rewrite of RF-Score_desc.c & RF-Score_pred.r in python, by OZhang 03.2023"
   ]
  },
  {
   "cell_type": "markdown",
   "id": "a612be7a",
   "metadata": {},
   "source": [
    "Reads a list of PDBbind protein-ligand complexes and calculate their RF-Score descriptors                 "
   ]
  },
  {
   "cell_type": "code",
   "execution_count": 3,
   "id": "713ae30a",
   "metadata": {},
   "outputs": [],
   "source": [
    "#    1 : [\"H\" , \"HA\" , \"HA1\" , \"HA2\" , \"HB\" , \"HB1\" , \"HB2\" , \"HB3\" , \"HD1\" , \"HD2\" , \n",
    "#         \"1HD2\", \"1HD3\", \"2HD2\", \"2HD3\", \"1HE2\", \"1HE3\", \"2HE2\", \"2HE3\",\n",
    "#         \"HE\" , \"HE1\" , \"HE2\" , \"HE3\" , \"HG\" , \"HG1\" , \"HG2\" , \"1HG2\", \"1HG3\", \"2HG2\", \"2HG3\", \n",
    "#         \"HH\", \"HH1\", \"HH2\", \"1HH1\", \"2HH1\", \"1HH2\", \"2HH2\", \"HZ1\", \"HZ2\", \"HZ3\", \n",
    "#         \"HN1\", \"HN\", \"HN2\", \"HN3\"],"
   ]
  },
  {
   "cell_type": "code",
   "execution_count": 4,
   "id": "4303c02a",
   "metadata": {},
   "outputs": [],
   "source": [
    "NLIGATMAX = 250 # maximum number of heavy atoms in the ligand\n",
    "NELEMTS = 54   # maximum number of chemical elements considered\n",
    "DCUTOFF = 12   # distance cutoff for protein atoms near ligand\n",
    "VERBOSE = 1  # show information about run\n",
    "\n",
    "atomic_number_to_name = {\n",
    "    6 : [\"C\" , \"CA\" , \"CB\" , \"CD\" , \"CD1\" , \"CD2\" , \"CE\" , \"CE1\" , \n",
    "                    \"CE2\", \"CE3\", \"CG\", \"CG1\", \"CG2\", \"CH2\", \"CZ\", \"CZ2\", \"CZ3\"],\n",
    "    8 : [\"O\" , \"OD1\" , \"OD2\" , \"OE1\" , \"OE1A\" , \"OE1B\" , \"OE2\" , \"OG\" , \"OG1\", \"OH\", \"OXT\"],\n",
    "    7 : [\"N\" , \"NE\" , \"NE1\" , \"NE2\" , \"NE2A\" , \"NE2B\" , \"ND1\" , \"ND2\" , \"NH1\" , \"NH2\" , \"NZ\"],\n",
    "    9 : [\"F\"],\n",
    "    15 : [\"P\"],\n",
    "    16 : [\"S\" , \"SD\" , \"SG\"],\n",
    "    17 : [\"Cl\", \"CL\"],\n",
    "    35 : [\"Br\", \"BR\"],\n",
    "    53 : [\"I\"],\n",
    "}\n",
    "\n",
    "name_to_atomic_number = { }\n",
    "for k, v in atomic_number_to_name.items():\n",
    "    for i in v:\n",
    "        name_to_atomic_number[i] = k"
   ]
  },
  {
   "cell_type": "code",
   "execution_count": 6,
   "id": "582aadae",
   "metadata": {},
   "outputs": [],
   "source": [
    "def read_pdb_file(filename):\n",
    "    coords = []\n",
    "    atomnumbers = []\n",
    "    with open(filename, \"r\") as f:\n",
    "        for line in f.readlines():\n",
    "            if line.startswith(\"ATOM\"):\n",
    "                indices = [0, 6, 12, 17, 20, 22, 26, 30, 38, 46, 54, 60, 66, 78]\n",
    "                items = [line.strip()[i:j] for i, j in zip(indices, indices[1:]+[None])]\n",
    "                \n",
    "                if items[-2].strip() == \"H\":\n",
    "                    continue\n",
    "                if name_to_atomic_number.get(items[2].strip()) is None:\n",
    "                    continue\n",
    "                    \n",
    "                atomnumbers.append(name_to_atomic_number.get(items[2].strip()))\n",
    "                coords += items[7:10]\n",
    "\n",
    "    assert len(coords)//3 == len(atomnumbers)\n",
    "    return np.array(atomnumbers), np.reshape(coords, (-1, 3)).astype(float)\n",
    "\n",
    "def read_ligand_sdf(filename):\n",
    "    coords = []\n",
    "    atomnumbers = []\n",
    "    with open(filename, \"r\") as f:\n",
    "        lines = f.readlines()\n",
    "        natoms = int(lines[3][:3].strip())\n",
    "        if natoms > NLIGATMAX:\n",
    "            # then correct reading error\n",
    "            natoms = int(lines[3][:2].strip())\n",
    "        for i in range(natoms):\n",
    "            line = lines[i+4].split()\n",
    "            atomnumber = name_to_atomic_number.get(line[3])\n",
    "            if atomnumber is None:\n",
    "                continue\n",
    "            atomnumbers.append(atomnumber)\n",
    "            coords += line[:3]\n",
    "        assert len(coords)//3 == len(atomnumbers)\n",
    "        return np.array(atomnumbers), np.reshape(coords, (-1, 3)).astype(float)    "
   ]
  },
  {
   "cell_type": "code",
   "execution_count": 7,
   "id": "816ea150",
   "metadata": {},
   "outputs": [],
   "source": [
    "def RF_descriptor(labels, struct_dir):\n",
    "    #bindaff_dict = read_bindaff(dat_file)\n",
    "    bindaff_dict = {}\n",
    "    for prot_name in labels: #bindaff_dict:\n",
    "        #pname_lc = prot_name.lower()\n",
    "        ligand_file = os.path.join(struct_dir, prot_name, f\"ligand.sdf\")\n",
    "        pocket_file = os.path.join(struct_dir, prot_name, f\"protein.pdb\")\n",
    "        if not os.path.exists(ligand_file):\n",
    "            if VERBOSE: print(prot_name, \"does not exists in dir\", struct_dir)\n",
    "            continue\n",
    "\n",
    "        ligand_a, ligand_c = read_ligand_sdf(ligand_file)\n",
    "        pocket_a, pocket_c = read_pdb_file(pocket_file)\n",
    "        features = np.zeros((NELEMTS, NELEMTS))\n",
    "\n",
    "        # Calculate distances between current ligand and its binding site\n",
    "        d = distance_matrix(pocket_c, ligand_c)\n",
    "        dmask = d < DCUTOFF\n",
    "        lgrid, pgrid = np.meshgrid(ligand_a, pocket_a)\n",
    "        assert pgrid.shape == dmask.shape\n",
    "        p_hits = pgrid[dmask]\n",
    "        l_hits = lgrid[dmask]\n",
    "        for u in zip(p_hits, l_hits):\n",
    "            features[int(u[0]), int(u[1])] += 1\n",
    "            \n",
    "        col_mask = list(atomic_number_to_name.keys())\n",
    "        bindaff_dict[prot_name] = features[col_mask][:, col_mask]\n",
    "\n",
    "    return bindaff_dict"
   ]
  },
  {
   "attachments": {},
   "cell_type": "markdown",
   "id": "e8783c99",
   "metadata": {},
   "source": [
    "Featurize UCBsplit train data and save as npz"
   ]
  },
  {
   "cell_type": "code",
   "execution_count": null,
   "id": "69f3a918",
   "metadata": {},
   "outputs": [],
   "source": [
    "alldat = pd.read_csv(\"RF-Score_scripts/ucb_split_info.csv\")\n",
    "f1 = alldat[\"category\"] == \"train\"\n",
    "f2 = alldat.CL1 & alldat.CL2\n",
    "df = alldat[f1 & f2]\n",
    "feature = RF_descriptor(df[\"pdbid\"], \"../ucbsplit/dataset/\")\n",
    "np.savez(\"./RF-Score_scripts/newtrain_RF_descriptor.npz\", **{\"pdbid\": df[\"pdbid\"],\n",
    "                                                             \"feature\": np.array([feature[k] for k in df[\"pdbid\"]]),\n",
    "                                                             \"affinity\": df[\"value\"]})"
   ]
  },
  {
   "cell_type": "code",
   "execution_count": null,
   "id": "9d2a19ef",
   "metadata": {},
   "outputs": [],
   "source": []
  },
  {
   "cell_type": "markdown",
   "id": "875b8afc",
   "metadata": {},
   "source": [
    "RandomForest training"
   ]
  },
  {
   "cell_type": "code",
   "execution_count": 11,
   "id": "cd883c54",
   "metadata": {},
   "outputs": [],
   "source": [
    "# Reading Training (TRN) and Test (TST) Datasets; generated with RFscore_descriptor.py\n",
    "testdata = np.load(\"RF-Score_scripts/newtest_RF_descriptor.npz\")\n",
    "valdata = np.load(\"RF-Score_scripts/newval_RF_descriptor.npz\")\n",
    "traindata = np.load(\"RF-Score_scripts/newtrain_RF_descriptor.npz\")"
   ]
  },
  {
   "cell_type": "code",
   "execution_count": 12,
   "id": "d3d550df",
   "metadata": {},
   "outputs": [],
   "source": [
    "ntrndata = len(traindata[\"pdbid\"])  # number of pdb complexes for training\n",
    "nvaldata = len(valdata[\"pdbid\"])  \n",
    "ntstdata = len(testdata[\"pdbid\"])  # number of pdb complexes for testing\n",
    "seed = 1\n",
    "\n",
    "itrain = np.arange(ntrndata)\n",
    "nsample = ntrndata\n",
    "np.random.seed(seed)\n",
    "np.random.shuffle(itrain)  # shuffle selected complexes\n",
    "train_y = np.array(traindata[\"affinity\"])[itrain]\n",
    "train_X = np.array(traindata[\"feature\"])[itrain]\n",
    "\n",
    "val_y = np.array(valdata[\"affinity\"])\n",
    "val_X = np.array(valdata[\"feature\"])\n",
    "\n",
    "test_y = np.array(testdata[\"affinity\"])\n",
    "test_X = np.array(testdata[\"feature\"])"
   ]
  },
  {
   "cell_type": "code",
   "execution_count": 15,
   "id": "5dcd3457",
   "metadata": {},
   "outputs": [
    {
     "data": {
      "text/plain": [
       "36"
      ]
     },
     "execution_count": 15,
     "metadata": {},
     "output_type": "execute_result"
    }
   ],
   "source": [
    "# Data pre-processing; remove all zeros entries\n",
    "\n",
    "col_mask = np.sum(train_X.reshape(-1, 81), axis = 0) > 0\n",
    "col_mask.sum()"
   ]
  },
  {
   "cell_type": "code",
   "execution_count": 12,
   "id": "1eff2d67",
   "metadata": {},
   "outputs": [],
   "source": [
    "#col_mask = np.r_[1:3, 6, 10:12, 15, 19:21, 24, 28:30, 33, 37:39, 42, \n",
    "#                 46:48, 51, 55:57, 60, 64:66, 69, 73:75, 78]\n",
    "train_Xs = train_X[:, col_mask]\n",
    "test_Xs = test_X[:, col_mask]\n",
    "val_Xs = val_X[:, col_mask]"
   ]
  },
  {
   "cell_type": "code",
   "execution_count": 96,
   "id": "4c800c6d",
   "metadata": {},
   "outputs": [
    {
     "name": "stdout",
     "output_type": "stream",
     "text": [
      "mbest =  100 2 rmse_OOB =  1.576\n",
      "mbest =  100 3 rmse_OOB =  1.563\n",
      "mbest =  100 4 rmse_OOB =  1.55\n"
     ]
    }
   ],
   "source": [
    "# Selecting RF with best internal validation (RF-SCORE)\n",
    "rmse_OOB_best = 1e8  # dummy high value\n",
    "for mest in range(100, 550, 50):\n",
    "    for mtry in range(2, 11):\n",
    "        RF_mtry = RandomForestRegressor(n_estimators=mest, max_features=mtry, oob_score=True, random_state=24)\n",
    "        RF_mtry.fit(train_Xs, train_y)\n",
    "        rmse_OOB = np.sqrt(np.mean((RF_mtry.predict(val_Xs) - val_y) ** 2))\n",
    "        mae = np.mean((RF_mtry.predict(val_Xs) - val_y))\n",
    "        if rmse_OOB < rmse_OOB_best:\n",
    "            mbest = mtry\n",
    "            rmse_OOB_best = rmse_OOB\n",
    "            print(\"mbest = \", mest, mbest, \"rmse_OOB = \", round(rmse_OOB, 3))\n",
    "        #print(\"mtry = \", mtry)"
   ]
  },
  {
   "cell_type": "code",
   "execution_count": 97,
   "id": "8f71c36c",
   "metadata": {},
   "outputs": [
    {
     "name": "stdout",
     "output_type": "stream",
     "text": [
      "pearson R 0.976 spearman R 0.976\n",
      "run 1: rmse 1.55; pearson corr 0.564; spearman corr 0.531\n",
      "pearson R 0.976 spearman R 0.975\n",
      "run 2: rmse 1.576; pearson corr 0.548; spearman corr 0.516\n",
      "pearson R 0.976 spearman R 0.976\n",
      "run 3: rmse 1.551; pearson corr 0.565; spearman corr 0.535\n",
      "pearson R 0.976 spearman R 0.976\n",
      "run 4: rmse 1.58; pearson corr 0.546; spearman corr 0.511\n",
      "pearson R 0.976 spearman R 0.976\n",
      "run 5: rmse 1.567; pearson corr 0.553; spearman corr 0.521\n",
      "pearson R 0.976 spearman R 0.975\n",
      "run 6: rmse 1.55; pearson corr 0.563; spearman corr 0.531\n",
      "pearson R 0.976 spearman R 0.975\n",
      "run 7: rmse 1.562; pearson corr 0.556; spearman corr 0.525\n",
      "pearson R 0.976 spearman R 0.975\n",
      "run 8: rmse 1.568; pearson corr 0.552; spearman corr 0.518\n",
      "pearson R 0.976 spearman R 0.976\n",
      "run 9: rmse 1.55; pearson corr 0.566; spearman corr 0.533\n",
      "pearson R 0.976 spearman R 0.976\n",
      "run 10: rmse 1.558; pearson corr 0.558; spearman corr 0.527\n"
     ]
    }
   ],
   "source": [
    "test_rmse = []\n",
    "corr_avg = np.zeros((10, 2))\n",
    "best_fit = None\n",
    "best_model = None\n",
    "for n in range(10):\n",
    "    RF_Score = RandomForestRegressor(n_estimators=100, max_features=3)\n",
    "    RF_Score.fit(train_Xs, train_y)\n",
    "\n",
    "    # train performance\n",
    "    train_pred = RF_Score.predict(train_Xs)\n",
    "    train_rmse = np.round(((train_y - train_pred)**2).mean() ** 0.5, 3)\n",
    "    train_sdev = np.round((train_y - train_pred).std(), 3)\n",
    "    fitpoints = pd.concat([pd.DataFrame(train_y), pd.DataFrame(train_pred)], axis=1).dropna()\n",
    "    tr_fitcorr = np.round(fitpoints.corr(method='pearson').iloc[0, 1], 3)\n",
    "    tr_sprcorr = np.round(fitpoints.corr(method='spearman').iloc[0, 1], 3)\n",
    "    print(\"pearson R\", tr_fitcorr, \"spearman R\", tr_sprcorr)\n",
    "    \n",
    "    # test performance\n",
    "    test_pred = RF_Score.predict(test_Xs)\n",
    "    test_rmse.append(np.round(((test_y - test_pred)**2).mean() ** 0.5, 3))\n",
    "    #test_sdev = np.round((test_y - test_pred).std(), 3)\n",
    "    fitpoints = pd.concat([pd.DataFrame(test_y), pd.DataFrame(test_pred)], axis=1).dropna()\n",
    "    fitcorr = np.round(fitpoints.corr(method='pearson').iloc[0, 1], 3)\n",
    "    sprcorr = np.round(fitpoints.corr(method='spearman').iloc[0, 1], 3)\n",
    "    print(f\"run {n+1}: rmse {test_rmse[-1]}; pearson corr {fitcorr}; spearman corr {sprcorr}\")\n",
    "    corr_avg[n] = np.array([fitcorr, sprcorr])\n",
    "    if fitcorr == np.max(corr_avg[:, 0]):\n",
    "        best_fit = fitpoints\n",
    "        best_model = RF_Score"
   ]
  },
  {
   "cell_type": "code",
   "execution_count": 98,
   "id": "51f89976",
   "metadata": {},
   "outputs": [],
   "source": [
    "# save models\n",
    "with open('RF_ucbsplit.pkl', 'wb') as handle:\n",
    "    pickle.dump(best_model, handle, protocol=pickle.HIGHEST_PROTOCOL)"
   ]
  },
  {
   "cell_type": "code",
   "execution_count": null,
   "id": "5f122ee6",
   "metadata": {},
   "outputs": [],
   "source": []
  },
  {
   "attachments": {},
   "cell_type": "markdown",
   "id": "dead5b27",
   "metadata": {},
   "source": [
    "Compare models performance"
   ]
  },
  {
   "cell_type": "code",
   "execution_count": 10,
   "id": "3d1c687b",
   "metadata": {},
   "outputs": [],
   "source": [
    "with open('RF_pdb2007.pkl', 'rb') as f:\n",
    "    old_model = pickle.load(f)\n",
    "\n",
    "with open('RF_ucbsplit.pkl', 'rb') as f:\n",
    "    best_model = pickle.load(f)"
   ]
  },
  {
   "cell_type": "code",
   "execution_count": 16,
   "id": "50aa4f2f",
   "metadata": {},
   "outputs": [],
   "source": [
    "df = pd.read_csv(\"../BindingDB_test/bindingDB_processed.csv\")\n",
    "feature = RF_descriptor(df[\"PDBID\"], \"../BindingDB_test/dataset/\")\n",
    "DB_Xs = np.reshape(feature, (-1, 81))\n",
    "DB_Xs = DB_Xs[:, col_mask]\n",
    "old_pred = old_model.predict(DB_Xs)\n",
    "new_pred = best_model.predict(DB_Xs)"
   ]
  },
  {
   "cell_type": "code",
   "execution_count": 17,
   "id": "1ed10a5d",
   "metadata": {},
   "outputs": [],
   "source": []
  },
  {
   "cell_type": "code",
   "execution_count": null,
   "id": "bf88d090",
   "metadata": {},
   "outputs": [],
   "source": []
  }
 ],
 "metadata": {
  "kernelspec": {
   "display_name": "chem142",
   "language": "python",
   "name": "chem142"
  },
  "language_info": {
   "codemirror_mode": {
    "name": "ipython",
    "version": 3
   },
   "file_extension": ".py",
   "mimetype": "text/x-python",
   "name": "python",
   "nbconvert_exporter": "python",
   "pygments_lexer": "ipython3",
   "version": "3.8.15"
  }
 },
 "nbformat": 4,
 "nbformat_minor": 5
}
