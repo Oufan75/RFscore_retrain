{
 "cells": [
  {
   "cell_type": "code",
   "execution_count": 1,
   "id": "15a84187",
   "metadata": {},
   "outputs": [],
   "source": [
    "import os\n",
    "import numpy as np\n",
    "from sklearn.ensemble import RandomForestRegressor\n",
    "import pandas as pd"
   ]
  },
  {
   "cell_type": "markdown",
   "id": "04ab65ec",
   "metadata": {},
   "source": [
    "Credit: A machine learning approach to predicting protein-ligand binding affinity with applications to molecular docking. \n",
    "P.J. Ballester & J.B.O. Mitchell, Bioinformatics, 26, 1169-1175 (2010)                                                                                                       \n",
    "Rewrite of RF-Score_desc.c & RF-Score_pred.r in python, by OZhang 03.2023"
   ]
  },
  {
   "cell_type": "markdown",
   "id": "a612be7a",
   "metadata": {},
   "source": [
    "Reads a list of PDBbind protein-ligand complexes and calculate their RF-Score descriptors                 "
   ]
  },
  {
   "cell_type": "code",
   "execution_count": null,
   "id": "713ae30a",
   "metadata": {},
   "outputs": [],
   "source": [
    "#    1 : [\"H\" , \"HA\" , \"HA1\" , \"HA2\" , \"HB\" , \"HB1\" , \"HB2\" , \"HB3\" , \"HD1\" , \"HD2\" , \n",
    "#         \"1HD2\", \"1HD3\", \"2HD2\", \"2HD3\", \"1HE2\", \"1HE3\", \"2HE2\", \"2HE3\",\n",
    "#         \"HE\" , \"HE1\" , \"HE2\" , \"HE3\" , \"HG\" , \"HG1\" , \"HG2\" , \"1HG2\", \"1HG3\", \"2HG2\", \"2HG3\", \n",
    "#         \"HH\", \"HH1\", \"HH2\", \"1HH1\", \"2HH1\", \"1HH2\", \"2HH2\", \"HZ1\", \"HZ2\", \"HZ3\", \n",
    "#         \"HN1\", \"HN\", \"HN2\", \"HN3\"],"
   ]
  },
  {
   "cell_type": "code",
   "execution_count": 376,
   "id": "4303c02a",
   "metadata": {},
   "outputs": [],
   "source": [
    "NATOMAX = 3500   # maximum number of heavy atoms in the bindsite\n",
    "NLIGATMAX = 250 # maximum number of heavy atoms in the ligand\n",
    "NELEMTS = 54   # maximum number of chemical elements considered\n",
    "DCUTOFF = 12   # distance cutoff for protein atoms near ligand\n",
    "VERBOSE = 0  # show information about run\n",
    "\n",
    "atomic_number_to_name = {\n",
    "    6 : [\"C\" , \"CA\" , \"CB\" , \"CD\" , \"CD1\" , \"CD2\" , \"CE\" , \"CE1\" , \n",
    "                    \"CE2\", \"CE3\", \"CG\", \"CG1\", \"CG2\", \"CH2\", \"CZ\", \"CZ2\", \"CZ3\"],\n",
    "    8 : [\"O\" , \"OD1\" , \"OD2\" , \"OE1\" , \"OE1A\" , \"OE1B\" , \"OE2\" , \"OG\" , \"OG1\", \"OH\", \"OXT\"],\n",
    "    7 : [\"N\" , \"NE\" , \"NE1\" , \"NE2\" , \"NE2A\" , \"NE2B\" , \"ND1\" , \"ND2\" , \"NH1\" , \"NH2\" , \"NZ\"],\n",
    "    9 : [\"F\"],\n",
    "    15 : [\"P\"],\n",
    "    16 : [\"S\" , \"SD\" , \"SG\"],\n",
    "    17 : [\"Cl\"],\n",
    "    35 : [\"Br\"],\n",
    "    53 : [\"I\"],\n",
    "}\n",
    "\n",
    "name_to_atomic_number = { }\n",
    "for k, v in atomic_number_to_name.items():\n",
    "    for i in v:\n",
    "        name_to_atomic_number[i] = k"
   ]
  },
  {
   "cell_type": "code",
   "execution_count": 377,
   "id": "a6a79694",
   "metadata": {},
   "outputs": [],
   "source": [
    "class PdbLine:\n",
    "    def __init__(self, input):\n",
    "        self.lineid = input[0].strip()\n",
    "        self.atomid = int(input[1].strip())\n",
    "        self.atomtype = input[2].strip()\n",
    "        self.resname = input[3].strip()\n",
    "        self.chainid = input[4].strip()\n",
    "        self.resid = int(input[5].strip())\n",
    "        self.r = [float(i.strip()) for i in input[6:9]]\n",
    "        self.prob = float(input[9].strip())\n",
    "        self.dum = float(input[10].strip())\n",
    "        self.atomname = input[11].strip()\n",
    "    \n",
    "    def set_atomnumber(self, a):\n",
    "        self.atomnumber = a\n",
    "\n",
    "class Ligand:\n",
    "    def __init__(self):\n",
    "        self.natoms = 0\n",
    "        self.atomid = [0] * NATOMAX\n",
    "        self.atomtype = [\" \" * 5] * NATOMAX\n",
    "        self.protname = \"\"\n",
    "        self.chainid = \"\"\n",
    "        self.resid = 0\n",
    "        self.r = [[0.0] * 3] * NATOMAX\n",
    "        self.atomname = [\" \" * 4] * NATOMAX\n",
    "        self.atomnumber = [0] * NATOMAX\n",
    "        self.bindaff = 0.0\n",
    "      "
   ]
  },
  {
   "cell_type": "code",
   "execution_count": 378,
   "id": "582aadae",
   "metadata": {},
   "outputs": [],
   "source": [
    "def read_pdb_file(filename):\n",
    "    pdb_lines = []\n",
    "    with open(filename, \"r\") as f:\n",
    "        for line in f.readlines():\n",
    "            if line.startswith(\"ATOM\"):\n",
    "                indices = [0, 6, 12, 17, 20, 22, 26, 30, 38, 46, 54, 60, 66, 78]\n",
    "                items = [line.strip()[i:j] for i, j in zip(indices, indices[1:]+[None])]\n",
    "                items.pop(6)\n",
    "                pdb_line = PdbLine(items)\n",
    "                atomnumber = name_to_atomic_number.get(pdb_line.atomtype)\n",
    "                if atomnumber is None:\n",
    "                    continue\n",
    "                pdb_line.set_atomnumber(atomnumber)\n",
    "                pdb_lines.append(pdb_line)\n",
    "    return pdb_lines\n",
    "\n",
    "def read_ligand_sdf(filename, bind_dict=None):\n",
    "    ligand = Ligand()\n",
    "    with open(filename, \"r\") as f:\n",
    "        lines = f.readlines()\n",
    "        ligand.natoms = int(lines[3][:3].strip())\n",
    "        if ligand.natoms > NLIGATMAX:\n",
    "            # then correct reading error\n",
    "            ligand.natoms = int(line[3][:2].strip())\n",
    "        ligand.protname = lines[0].split(\"_\")[0].strip()\n",
    "        for i in range(ligand.natoms):\n",
    "            line = lines[i+4].split()\n",
    "            atomnumber = name_to_atomic_number.get(line[3])\n",
    "            if atomnumber is None:\n",
    "                continue\n",
    "            ligand.atomid[i] = i+1\n",
    "            ligand.atomtype[i] = line[3]\n",
    "            ligand.r[i][0] = float(line[0])\n",
    "            ligand.r[i][1] = float(line[1])\n",
    "            ligand.r[i][2] = float(line[2])\n",
    "            ligand.atomnumber[i] = atomnumber\n",
    "        if bind_dict:\n",
    "            ligand.bindaff = bind_dict[ligand.protname]\n",
    "        return ligand      "
   ]
  },
  {
   "cell_type": "code",
   "execution_count": 379,
   "id": "0bfe62b1",
   "metadata": {},
   "outputs": [],
   "source": [
    "def read_bindaff(filename):\n",
    "    data = np.loadtxt(filename, dtype={'names': ('pdbid', 'affinity'),\n",
    "                     'formats': ('U4', 'f4')})\n",
    "    return {data[i][0] : [data[i][1]] for i in range(data.shape[0])}"
   ]
  },
  {
   "cell_type": "code",
   "execution_count": 382,
   "id": "816ea150",
   "metadata": {},
   "outputs": [],
   "source": [
    "def RF_descriptor(dat_file, struct_dir, output=None):\n",
    "    bindaff_dict = read_bindaff(dat_file)\n",
    "    for prot_name in bindaff_dict:\n",
    "        pname_lc = prot_name.lower()\n",
    "        ligand_file = os.path.join(struct_dir, pname_lc, pname_lc +\"_ligand.sdf\")\n",
    "        pocket_file = os.path.join(struct_dir, pname_lc, pname_lc +\"_pocket.pdb\")\n",
    "        if not os.path.exists(ligand_file):\n",
    "            if VERBOSE: print(prot_name, \"does not exists in dir\", struct_dir)\n",
    "            continue\n",
    "        if not os.path.exists(pocket_file):\n",
    "            if VERBOSE: print(prot_name, \"pocket does not exists in dir\", struct_dir, \"; read protein file instead\")\n",
    "            pocket_file = os.path.join(struct_dir, pname_lc, pname_lc +\"_protein.pdb\")\n",
    "            if not os.path.exists(pocket_file):\n",
    "                if VERBOSE: print(prot_name, \"does not exists in dir\", struct_dir)\n",
    "                continue\n",
    "\n",
    "        ligand = read_ligand_sdf(ligand_file)\n",
    "        pocket = read_pdb_file(pocket_file)\n",
    "        features = np.zeros((NELEMTS, NELEMTS))\n",
    "\n",
    "        # Calculate distances between current ligand and its binding site\n",
    "        break_loop = False\n",
    "        visited = set()\n",
    "        for k in range(ligand.natoms):\n",
    "            for l in range(len(pocket)):\n",
    "                ddum = np.linalg.norm(np.array(ligand.r[k]) - np.array(pocket[l].r))\n",
    "                if ddum < DCUTOFF:\n",
    "                    features[pocket[l].atomnumber, ligand.atomnumber[k]] += 1\n",
    "                    visited.add(l)\n",
    "                    if len(visited) >= NATOMAX:\n",
    "                        break_loop = True\n",
    "                        if VERBOSE:\n",
    "                            print(\"exceed maximum binding site heavy atom limit\")\n",
    "                        break\n",
    "            if break_loop:\n",
    "                break\n",
    "        col_mask = list(atomic_number_to_name.keys())\n",
    "        bindaff_dict[prot_name].append(features[col_mask][:, col_mask])\n",
    "\n",
    "    # reorder output\n",
    "    new_dict = {\"pdbid\": list(bindaff_dict.keys()),\n",
    "                \"affinity\": np.array([bindaff_dict[key][0] for key in bindaff_dict]),\n",
    "                \"feature\": [bindaff_dict[key][1] if len(bindaff_dict[key]) > 1 else None\n",
    "                            for key in bindaff_dict]}\n",
    "    # save output\n",
    "    if output is not None: \n",
    "        np.savez(output, **new_dict)\n",
    "    return new_dict"
   ]
  },
  {
   "cell_type": "code",
   "execution_count": 383,
   "id": "4f989682",
   "metadata": {},
   "outputs": [],
   "source": [
    "# generate complexes descriptors\n",
    "testdata = RF_descriptor(\"RF-Score_scripts/PDBbind_core07.txt\", \"pdbbind_v2007\")\n",
    "traindata = RF_descriptor(\"RF-Score_scripts/PDBbind_refined07-core07.txt\", \"pdbbind_v2007\")"
   ]
  },
  {
   "cell_type": "code",
   "execution_count": 394,
   "id": "97ea7462",
   "metadata": {},
   "outputs": [],
   "source": [
    "np.savez(\"RF-Score_scripts/PDBbind_refined07_desc.npz\", **traindata)"
   ]
  },
  {
   "cell_type": "code",
   "execution_count": null,
   "id": "9d2a19ef",
   "metadata": {},
   "outputs": [],
   "source": []
  },
  {
   "cell_type": "markdown",
   "id": "875b8afc",
   "metadata": {},
   "source": [
    "RandomForest training"
   ]
  },
  {
   "cell_type": "code",
   "execution_count": null,
   "id": "3ad3738c",
   "metadata": {},
   "outputs": [],
   "source": [
    "# Reading Training (TRN) and Test (TST) Datasets; generated with RFscore_descriptor.py\n",
    "#testdata = np.load(\"PDBbind_refined07_desc.npz\")\n",
    "#traindata = np.load(\"PDBbind_core07_desc.npz\")"
   ]
  },
  {
   "cell_type": "code",
   "execution_count": 384,
   "id": "0a489225",
   "metadata": {},
   "outputs": [],
   "source": [
    "ntrndata = len(traindata[\"pdbid\"])  # number of pdb complexes for training\n",
    "ntstdata = len(testdata[\"pdbid\"])  # number of pdb complexes for testing\n",
    "seed = 1\n",
    "\n",
    "itrain = np.arange(ntrndata)\n",
    "nsample = ntrndata\n",
    "np.random.seed(seed)\n",
    "np.random.shuffle(itrain)  # shuffle selected complexes\n",
    "train_y = np.array(traindata[\"affinity\"])[itrain]\n",
    "train_X = np.array(traindata[\"feature\"])[itrain]\n",
    "train_pdbnames = np.array(traindata[\"pdbid\"])[itrain]\n",
    "test_y = np.array(testdata[\"affinity\"])\n",
    "test_X = np.array(testdata[\"feature\"])\n",
    "\n",
    "test_pdbnames = testdata[\"pdbid\"]"
   ]
  },
  {
   "cell_type": "code",
   "execution_count": 385,
   "id": "5dcd3457",
   "metadata": {},
   "outputs": [
    {
     "data": {
      "text/plain": [
       "36"
      ]
     },
     "execution_count": 385,
     "metadata": {},
     "output_type": "execute_result"
    }
   ],
   "source": [
    "# Data pre-processing; remove all zeros entries\n",
    "train_X_f = np.reshape(train_X, (ntrndata, -1))\n",
    "test_X_f = np.reshape(test_X, (ntstdata, -1))\n",
    "all_X = np.vstack((train_X_f, test_X_f))\n",
    "col_mask = np.sum(all_X, axis = 0) > 0\n",
    "col_mask.sum()"
   ]
  },
  {
   "cell_type": "code",
   "execution_count": 386,
   "id": "1eff2d67",
   "metadata": {},
   "outputs": [],
   "source": [
    "#col_mask = np.r_[1:3, 6, 10:12, 15, 19:21, 24, 28:30, 33, 37:39, 42, \n",
    "#                 46:48, 51, 55:57, 60, 64:66, 69, 73:75, 78]\n",
    "train_Xs = train_X_f[:, col_mask]\n",
    "test_Xs = test_X_f[:, col_mask]"
   ]
  },
  {
   "cell_type": "code",
   "execution_count": 387,
   "id": "4c800c6d",
   "metadata": {},
   "outputs": [
    {
     "name": "stdout",
     "output_type": "stream",
     "text": [
      "mbest =  2 rmse_OOB =  1.622\n",
      "mbest =  3 rmse_OOB =  1.618\n"
     ]
    }
   ],
   "source": [
    "# Selecting RF with best internal validation (RF-SCORE)\n",
    "rmse_OOB_best = 1e8  # dummy high value\n",
    "for mtry in range(2, 20):\n",
    "    RF_mtry = RandomForestRegressor(n_estimators=500, max_features=mtry, oob_score=True)\n",
    "    RF_mtry.fit(train_Xs, train_y)\n",
    "    rmse_OOB = np.sqrt(np.mean((RF_mtry.oob_prediction_ - train_y) ** 2))\n",
    "    if rmse_OOB < rmse_OOB_best:\n",
    "        mbest = mtry\n",
    "        rmse_OOB_best = rmse_OOB\n",
    "        print(\"mbest = \", mbest, \"rmse_OOB = \", round(rmse_OOB, 3))\n",
    "    #print(\"mtry = \", mtry)"
   ]
  },
  {
   "cell_type": "code",
   "execution_count": 396,
   "id": "8f71c36c",
   "metadata": {},
   "outputs": [],
   "source": [
    "RF_Score = RandomForestRegressor(n_estimators=500, max_features=mbest)\n",
    "RF_Score.fit(train_Xs, train_y)\n",
    "\n",
    "# train performance\n",
    "train_pred = RF_Score.predict(train_Xs)\n",
    "train_rmse = np.round(((train_y - train_pred)**2).mean() ** 0.5, 3)\n",
    "train_sdev = np.round((train_y - train_pred).std(), 3)\n",
    "fitpoints = pd.concat([pd.DataFrame(train_y), pd.DataFrame(train_pred)], axis=1).dropna()\n",
    "fitcorr = np.round(fitpoints.corr(method='pearson').iloc[0, 1], 3)\n",
    "sprcorr = np.round(fitpoints.corr(method='spearman').iloc[0, 1], 3)"
   ]
  },
  {
   "cell_type": "code",
   "execution_count": 397,
   "id": "f21f735a",
   "metadata": {},
   "outputs": [
    {
     "data": {
      "text/plain": [
       "(0.975, 0.975)"
      ]
     },
     "execution_count": 397,
     "metadata": {},
     "output_type": "execute_result"
    }
   ],
   "source": [
    "fitcorr, sprcorr"
   ]
  },
  {
   "cell_type": "code",
   "execution_count": 390,
   "id": "5f122ee6",
   "metadata": {},
   "outputs": [
    {
     "data": {
      "text/plain": [
       "(0.679, 0.677)"
      ]
     },
     "execution_count": 390,
     "metadata": {},
     "output_type": "execute_result"
    }
   ],
   "source": [
    "# test performance\n",
    "test_pred = RF_Score.predict(test_Xs)\n",
    "test_rmse = np.round(((test_y - test_pred)**2).mean() ** 0.5, 3)\n",
    "test_sdev = np.round((test_y - test_pred).std(), 3)\n",
    "fitpoints = pd.concat([pd.DataFrame(test_y), pd.DataFrame(test_pred)], axis=1).dropna()\n",
    "fitcorr = np.round(fitpoints.corr(method='pearson').iloc[0, 1], 3)\n",
    "sprcorr = np.round(fitpoints.corr(method='spearman').iloc[0, 1], 3)\n",
    "fitcorr, sprcorr"
   ]
  },
  {
   "cell_type": "code",
   "execution_count": 398,
   "id": "3e1e2282",
   "metadata": {},
   "outputs": [
    {
     "data": {
      "image/png": "[encoded data removed]",
      "text/plain": [
       "<Figure size 640x480 with 1 Axes>"
      ]
     },
     "metadata": {},
     "output_type": "display_data"
    }
   ],
   "source": [
    "plot_prediction(fitpoints, \"train\")"
   ]
  },
  {
   "cell_type": "code",
   "execution_count": 392,
   "id": "88f8072e",
   "metadata": {},
   "outputs": [
    {
     "data": {
      "image/png": "[encoded data removed]",
      "text/plain": [
       "<Figure size 640x480 with 1 Axes>"
      ]
     },
     "metadata": {},
     "output_type": "display_data"
    }
   ],
   "source": [
    "colname = [[f\"x{i}_{j}\" for j in list(atomic_number_to_name.keys())] for i in list(atomic_number_to_name.keys())]\n",
    "colname = np.reshape(colname, -1)\n",
    "plot_importance(RF_Score, train_Xs, colname[col_mask])"
   ]
  },
  {
   "cell_type": "code",
   "execution_count": 373,
   "id": "cc21abc1",
   "metadata": {},
   "outputs": [],
   "source": [
    "import matplotlib.pyplot as plt\n",
    "\n",
    "def plot_prediction(fitpoints, mode = \"train\"):\n",
    "    plt.plot(fitpoints.iloc[:,0], fitpoints.iloc[:,1], 'o')\n",
    "    prline = np.polyfit(fitpoints.iloc[:,0], fitpoints.iloc[:,1], 1)\n",
    "    plt.plot(fitpoints.iloc[:,0], np.polyval(prline, fitpoints.iloc[:,0]), '-')\n",
    "    plt.title(\"R=\" + str(fitcorr) + f\" on {mode} set (\" + str(fitpoints.shape[0]) + \" complexes)\")\n",
    "    plt.xlabel(\"Measured binding affinity (pKd) PDBbind DB\")\n",
    "    plt.ylabel(\"Predicted binding affinity (pKd) RF-Score\")\n",
    "    plt.grid()\n",
    "    plt.show()\n",
    "\n",
    "# Variable importance by RF-SCORE\n",
    "def plot_importance(RF_Score, X, colnames):\n",
    "    importances = RF_Score.feature_importances_\n",
    "    indices = np.argsort(importances)[::-1]\n",
    "    plt.figure()\n",
    "    plt.title(\"Variable Importance\")\n",
    "    plt.bar(range(X.shape[1]), importances[indices])\n",
    "    plt.xticks(range(X.shape[1]), colnames[indices], rotation=90)\n",
    "    plt.show()"
   ]
  },
  {
   "cell_type": "code",
   "execution_count": null,
   "id": "4567a987",
   "metadata": {},
   "outputs": [],
   "source": []
  }
 ],
 "metadata": {
  "kernelspec": {
   "display_name": "chem142",
   "language": "python",
   "name": "chem142"
  },
  "language_info": {
   "codemirror_mode": {
    "name": "ipython",
    "version": 3
   },
   "file_extension": ".py",
   "mimetype": "text/x-python",
   "name": "python",
   "nbconvert_exporter": "python",
   "pygments_lexer": "ipython3",
   "version": "3.8.15"
  }
 },
 "nbformat": 4,
 "nbformat_minor": 5
}
